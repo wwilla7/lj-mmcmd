{
 "cells": [
  {
   "cell_type": "code",
   "execution_count": null,
   "id": "afc26585",
   "metadata": {},
   "outputs": [],
   "source": [
    "%load_ext autoreload\n",
    "%autoreload 2"
   ]
  },
  {
   "cell_type": "code",
   "execution_count": null,
   "id": "246e9795",
   "metadata": {},
   "outputs": [],
   "source": [
    "import numpy as np\n",
    "from lj_mmcmd.mclj import MCLJ\n",
    "from lj_mmcmd.mdvvlj import MDvvlj\n",
    "import matplotlib.pyplot as plt"
   ]
  },
  {
   "cell_type": "code",
   "execution_count": null,
   "id": "e2d4086b",
   "metadata": {},
   "outputs": [],
   "source": [
    "import pint\n",
    "ureg = pint.UnitRegistry()\n",
    "Q_ = ureg.Quantity"
   ]
  },
  {
   "cell_type": "code",
   "execution_count": null,
   "id": "702ee7f9",
   "metadata": {},
   "outputs": [],
   "source": [
    "input_crds = np.load(\"lj_mmcmd/data/input.npy\")"
   ]
  },
  {
   "cell_type": "code",
   "execution_count": null,
   "id": "05165ca0",
   "metadata": {},
   "outputs": [],
   "source": [
    "step = 0\n",
    "lj_system = MCLJ()\n",
    "lj_system.system_size = 50\n",
    "lj_system.sigma = Q_(3.405, ureg.angstrom)\n",
    "lj_system.epsilon = Q_(0.238, \"kcal/mol\")\n",
    "lj_system.temperature = 298\n",
    "lj_system.nparticles = 50\n",
    "\n",
    "simulation_steps = 1000\n",
    "initial_position = input_crds\n",
    "last_energy = lj_system.calc_potential_energy(initial_position)\n",
    "del initial_position\n",
    "\n",
    "while step < simulation_steps:\n",
    "    next_postion = lj_system.new_positions()\n",
    "    this_energy = lj_system.calc_potential_energy(next_postion)\n",
    "    lj_system.decision_maker(last_energy, this_energy)\n",
    "    if lj_system.accept == True:\n",
    "        last_energy = this_energy\n",
    "        lj_system.trajectories.append(next_postion)\n",
    "        lj_system.potential_energies.append(this_energy)\n",
    "    else:\n",
    "        pass\n",
    "    step += 1     "
   ]
  },
  {
   "cell_type": "code",
   "execution_count": null,
   "id": "749eceee",
   "metadata": {},
   "outputs": [],
   "source": [
    "plt.figure(figsize=(7, 5), dpi=100)\n",
    "plt.title(\"MC-LJ\")\n",
    "plt.ylabel(\"Potential Energy (kcal/mol)\")\n",
    "plt.xlabel(\"Simulation steps\")\n",
    "plt.scatter([i for i in range(len(lj_system.potential_energies))], lj_system.potential_energies)\n",
    "plt.show()"
   ]
  },
  {
   "cell_type": "code",
   "execution_count": null,
   "id": "ea147058",
   "metadata": {},
   "outputs": [],
   "source": [
    "# run 1ns simulations\n",
    "test = MDvvlj(input_crds, 50) \n",
    "test.run(400000)"
   ]
  },
  {
   "cell_type": "code",
   "execution_count": null,
   "id": "c905e8df",
   "metadata": {},
   "outputs": [],
   "source": [
    "plt.figure(figsize=(7, 5), dpi=100)\n",
    "plt.title(\"MD-LJ\")\n",
    "plt.ylabel(\"Potential Energy (kcal/mol)\")\n",
    "plt.xlabel(\"Simulation steps\")\n",
    "plt.scatter([i for i in range(len(test.potential_energies))], test.potential_energies)\n",
    "plt.show()"
   ]
  },
  {
   "cell_type": "code",
   "execution_count": null,
   "id": "86f14049",
   "metadata": {},
   "outputs": [],
   "source": [
    "total_energy = np.array(test.potential_energies) + np.array(test.kinetic_energies)"
   ]
  },
  {
   "cell_type": "code",
   "execution_count": null,
   "id": "3c4a6724",
   "metadata": {},
   "outputs": [],
   "source": [
    "plt.figure(figsize=(7, 5), dpi=100)\n",
    "plt.title(\"MD-LJ\")\n",
    "plt.ylabel(\"Energy (kcal/mol)\")\n",
    "plt.xlabel(\"Simulation steps\")\n",
    "plt.scatter([i for i in range(len(total_energy))], total_energy, label=\"total\")\n",
    "plt.scatter([i for i in range(len(test.potential_energies))], test.potential_energies, label=\"potential\")\n",
    "plt.scatter([i for i in range(len(test.kinetic_energies))], test.kinetic_energies, label=\"kinetic\")\n",
    "plt.legend()\n",
    "plt.show()"
   ]
  },
  {
   "cell_type": "code",
   "execution_count": null,
   "id": "de7f962f",
   "metadata": {},
   "outputs": [],
   "source": []
  }
 ],
 "metadata": {
  "kernelspec": {
   "display_name": "lj-test",
   "language": "python",
   "name": "lj-test"
  },
  "language_info": {
   "codemirror_mode": {
    "name": "ipython",
    "version": 3
   },
   "file_extension": ".py",
   "mimetype": "text/x-python",
   "name": "python",
   "nbconvert_exporter": "python",
   "pygments_lexer": "ipython3",
   "version": "3.9.5"
  }
 },
 "nbformat": 4,
 "nbformat_minor": 5
}